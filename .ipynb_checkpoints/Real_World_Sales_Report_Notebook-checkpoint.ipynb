{
 "cells": [
  {
   "cell_type": "markdown",
   "id": "235a7f35",
   "metadata": {},
   "source": [
    "# 📊 Real-World Sales Report Automation\n",
    "This project reads real-world-style messy data, cleans it, joins multiple datasets, creates visual summaries, and sends an automated report via email using Gmail."
   ]
  },
  {
   "cell_type": "code",
   "execution_count": null,
   "id": "1aef8f12",
   "metadata": {},
   "outputs": [],
   "source": [
    "!pip install pandas matplotlib yagmail python-dotenv openpyxl"
   ]
  },
  {
   "cell_type": "code",
   "execution_count": null,
   "id": "c61e70cd",
   "metadata": {},
   "outputs": [],
   "source": [
    "import os\n",
    "from dotenv import load_dotenv\n",
    "load_dotenv()\n",
    "\n",
    "EMAIL_USER = os.getenv('EMAIL_USER')\n",
    "EMAIL_PASS = os.getenv('EMAIL_PASS')\n",
    "EMAIL_RECEIVER = os.getenv('EMAIL_RECEIVER')"
   ]
  },
  {
   "cell_type": "code",
   "execution_count": null,
   "id": "6094b8f1",
   "metadata": {},
   "outputs": [],
   "source": [
    "import pandas as pd\n",
    "import matplotlib.pyplot as plt\n",
    "import yagmail"
   ]
  },
  {
   "cell_type": "code",
   "execution_count": null,
   "id": "07e3d397",
   "metadata": {},
   "outputs": [],
   "source": [
    "sales = pd.read_excel('sales_data.xlsx')\n",
    "customers = pd.read_csv('customers.csv')\n",
    "products = pd.read_csv('products.csv')"
   ]
  },
  {
   "cell_type": "code",
   "execution_count": null,
   "id": "4ad0de54",
   "metadata": {},
   "outputs": [],
   "source": [
    "# Clean date format, fill missing prices, remove nulls\n",
    "sales['Date'] = pd.to_datetime(sales['Date'], errors='coerce')\n",
    "sales['Unit Price'] = sales['Unit Price'].fillna(sales['Unit Price'].median())\n",
    "sales = sales.dropna(subset=['Customer ID', 'Product ID', 'Date'])"
   ]
  },
  {
   "cell_type": "code",
   "execution_count": null,
   "id": "cf9c5f5c",
   "metadata": {},
   "outputs": [],
   "source": [
    "# Merge dataframes\n",
    "merged = sales.merge(customers, on='Customer ID', how='left')\n",
    "merged = merged.merge(products, on='Product ID', how='left')"
   ]
  },
  {
   "cell_type": "code",
   "execution_count": null,
   "id": "e63b9508",
   "metadata": {},
   "outputs": [],
   "source": [
    "# Create calculated columns\n",
    "merged['Total Sale'] = merged['Quantity'] * merged['Unit Price']\n",
    "merged['Profit'] = (merged['Unit Price'] - merged['Cost Price']) * merged['Quantity']"
   ]
  },
  {
   "cell_type": "code",
   "execution_count": null,
   "id": "d46561b0",
   "metadata": {},
   "outputs": [],
   "source": [
    "# Summary by product\n",
    "summary = merged.groupby('Product Name')['Total Sale'].sum().sort_values(ascending=False).head(5)\n",
    "summary"
   ]
  },
  {
   "cell_type": "code",
   "execution_count": null,
   "id": "dbe5f3fd",
   "metadata": {},
   "outputs": [],
   "source": [
    "# Plot and save chart\n",
    "plt.figure(figsize=(6,4))\n",
    "summary.plot(kind='bar', color='orange')\n",
    "plt.title('Top 5 Products by Sales')\n",
    "plt.ylabel('Total Sales ($)')\n",
    "plt.tight_layout()\n",
    "chart_path = 'top_products_chart.png'\n",
    "plt.savefig(chart_path)\n",
    "plt.close()"
   ]
  },
  {
   "cell_type": "code",
   "execution_count": null,
   "id": "04402498",
   "metadata": {},
   "outputs": [],
   "source": [
    "top_product = summary.idxmax()\n",
    "top_sales = summary.max()\n",
    "email_body = f\"\"\"\n",
    "Hi Team,\n",
    "\n",
    "Here’s the weekly sales summary:\n",
    "\n",
    "🔝 Top Product: {top_product}\n",
    "💰 Revenue from {top_product}: ${top_sales:,.2f}\n",
    "\n",
    "Please find the sales chart attached.\n",
    "\n",
    "Best,\n",
    "Automated Reporting Bot\n",
    "\"\"\""
   ]
  },
  {
   "cell_type": "code",
   "execution_count": null,
   "id": "21264da9",
   "metadata": {},
   "outputs": [],
   "source": [
    "try:\n",
    "    yag = yagmail.SMTP(user=EMAIL_USER, password=EMAIL_PASS)\n",
    "    yag.send(\n",
    "        to=EMAIL_RECEIVER,\n",
    "        subject='Weekly E-commerce Sales Report',\n",
    "        contents=email_body,\n",
    "        attachments=chart_path\n",
    "    )\n",
    "    print('✅ Email sent successfully!')\n",
    "except Exception as e:\n",
    "    print('❌ Failed to send email:', e)"
   ]
  }
 ],
 "metadata": {},
 "nbformat": 4,
 "nbformat_minor": 5
}
